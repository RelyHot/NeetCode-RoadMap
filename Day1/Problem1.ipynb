{
 "cells": [
  {
   "cell_type": "markdown",
   "metadata": {},
   "source": [
    "### **Problem 1 : [Contains Duplicate](https://leetcode.com/problems/contains-duplicate/submissions/1200567922/)**\n",
    "\n",
    "**Algorithm:** \n",
    "\n",
    "1. Create a Hash Map and the elements of the array 1 by 1 in it.\n",
    "2. Before Adding The Element Check if it is already present in the Hashmap or not\n",
    "3. if It is already there return true\n",
    "4. else at the end of the loop return false.."
   ]
  },
  {
   "cell_type": "code",
   "execution_count": null,
   "metadata": {
    "vscode": {
     "languageId": "javascript"
    }
   },
   "outputs": [],
   "source": [
    "class Solution {\n",
    "    public boolean containsDuplicate(int[] nums) {\n",
    "        HashMap<Integer,Integer> hmap = new HashMap<>();\n",
    "        for(int a : nums){\n",
    "            if(hmap.containsKey(a)) return true;\n",
    "            hmap.put(a,1);\n",
    "        }\n",
    "        return false;\n",
    "    }\n",
    "}"
   ]
  }
 ],
 "metadata": {
  "language_info": {
   "name": "python"
  }
 },
 "nbformat": 4,
 "nbformat_minor": 2
}
